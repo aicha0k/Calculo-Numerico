{
 "cells": [
  {
   "cell_type": "markdown",
   "metadata": {},
   "source": [
    "# Calculo Numérico\n",
    "## Método da falsa posição\n",
    "### Aicha Khalid Hassan Al-Rob\n",
    "\n",
    "exemplo: f(x)=x^3 −9x + 3"
   ]
  },
  {
   "cell_type": "code",
   "execution_count": 35,
   "metadata": {},
   "outputs": [],
   "source": [
    "\n",
    "def f(x):\n",
    "    return x**3 - 9*x + 3"
   ]
  },
  {
   "cell_type": "code",
   "execution_count": 36,
   "metadata": {},
   "outputs": [
    {
     "name": "stdout",
     "output_type": "stream",
     "text": [
      "f(1) = -5\n",
      "f(2) = -7\n"
     ]
    }
   ],
   "source": [
    "print(f\"f(1) = {f(1)}\")\n",
    "print(f\"f(2) = {f(2)}\")\n"
   ]
  },
  {
   "cell_type": "code",
   "execution_count": 37,
   "metadata": {},
   "outputs": [
    {
     "name": "stdout",
     "output_type": "stream",
     "text": [
      "  x  |  f(x)\n",
      "-5.0 | -77.0\n",
      "-4.5 | -47.625\n",
      "-4.0 | -25.0\n",
      "-3.5 | -8.375\n",
      "-3.0 | 3.0\n",
      "-2.5 | 9.875\n",
      "-2.0 | 13.0\n",
      "-1.5 | 13.125\n",
      "-1.0 | 11.0\n",
      "-0.5 | 7.375\n",
      "0.0 | 3.0\n",
      "0.5 | -1.375\n",
      "1.0 | -5.0\n",
      "1.5 | -7.125\n",
      "2.0 | -7.0\n",
      "2.5 | -3.875\n",
      "3.0 | 3.0\n",
      "3.5 | 14.375\n",
      "4.0 | 31.0\n",
      "4.5 | 53.625\n"
     ]
    }
   ],
   "source": [
    "import numpy as np\n",
    "# primeiro, vamos definir o intervalo [a, b] onde a raiz está\n",
    "print(\"  x  |  f(x)\")\n",
    "for i in np.arange(-5, 5, 0.5):\n",
    "    print(f\"{i} | {f(i)}\")"
   ]
  },
  {
   "cell_type": "code",
   "execution_count": 38,
   "metadata": {},
   "outputs": [
    {
     "name": "stdout",
     "output_type": "stream",
     "text": [
      "f(-3.5) = -8.375, f(-3) = 3\n"
     ]
    }
   ],
   "source": [
    "# uma funcao do terceiro grau tem tres raízes, entao vamos aplicar o metodo da falsa posicao para só uma.\n",
    "print(f\"f(-3.5) = {f(-3.5)}, f(-3) = {f(-3)}\")"
   ]
  },
  {
   "cell_type": "code",
   "execution_count": 39,
   "metadata": {},
   "outputs": [],
   "source": [
    "# Os pontos finais são então conectados por uma linha reta, \n",
    "# e a primeira estimativa da solução numérica, Xns1 , \n",
    "# é o ponto onde a linha reta cruza o eixo x\n",
    "\n",
    "# para um intervalo, a equaçao da reta que une esses dois pontos é dada por\n",
    "# f(x) = f(b) + (f(b) - f(a))/(b - a) * (x - b)\n",
    "\n",
    "# o ponto onde a reta cruza o eixo x é dado por f(x) = 0, entao\n",
    "# xns = af(b) - bf(a)/(f(b) - f(a))\n"
   ]
  },
  {
   "cell_type": "code",
   "execution_count": 40,
   "metadata": {},
   "outputs": [
    {
     "name": "stdout",
     "output_type": "stream",
     "text": [
      "xns = -3.107142857142857\n",
      "f(xns) = 0.966882288629737\n",
      "f(a) = -25, f(b) = 3\n"
     ]
    }
   ],
   "source": [
    "# calculando a primeira estimativa usando a formula\n",
    "# xns = -3.5*f(-3) - (-3)*f(-3.5)/(f(-3) - f(-3.5))\n",
    "a = -4\n",
    "b = -3\n",
    "xns = (a*f(b) - b*f(a))/(f(b) - f(a))\n",
    "print(f\"xns = {xns}\")\n",
    "\n",
    "# agora, vamos calcular f(xns)\n",
    "print(f\"f(xns) = {f(xns)}\")\n",
    "print(f\"f(a) = {f(a)}, f(b) = {f(b)}\")\n"
   ]
  },
  {
   "cell_type": "code",
   "execution_count": 41,
   "metadata": {},
   "outputs": [
    {
     "name": "stdout",
     "output_type": "stream",
     "text": [
      "A raiz está no intervalo [a, xns]\n"
     ]
    }
   ],
   "source": [
    "# verificacao se a raiz esta no intervalo [a, xns] ou [xns, b]\n",
    "if f(a)*f(xns) < 0:\n",
    "    print(\"A raiz está no intervalo [a, xns]\")\n",
    "else:\n",
    "    print(\"A raiz está no intervalo [xns, b]\")"
   ]
  },
  {
   "cell_type": "code",
   "execution_count": 42,
   "metadata": {},
   "outputs": [],
   "source": [
    "def falsa_posicao(a, b, tol, max_iter):\n",
    "    if f(a)*f(b) > 0:\n",
    "        print(\"Não há raiz no intervalo [a, b]\")\n",
    "        return None\n",
    "    for i in range(max_iter):\n",
    "        xns = (a*f(b) - b*f(a))/(f(b) - f(a))\n",
    "        if abs(f(xns)) < tol:\n",
    "            print(f\"Raiz encontrada: {xns}, após {i+1} iterações\")\n",
    "            return xns\n",
    "        if f(a)*f(xns) < 0:\n",
    "            b = xns\n",
    "        else:\n",
    "            a = xns\n",
    "        print(f\"Iteração {i+1}: xns = {xns}, f(xns) = {f(xns)}\")\n",
    "    \n",
    "    print(\"Número máximo de iterações atingido\")            \n",
    "    return xns\n"
   ]
  },
  {
   "cell_type": "code",
   "execution_count": 43,
   "metadata": {},
   "outputs": [
    {
     "name": "stdout",
     "output_type": "stream",
     "text": [
      "Iteração 1: xns = -3.107142857142857, f(xns) = 0.966882288629737\n",
      "Iteração 2: xns = -3.14038857944827, f(xns) = 0.29285807882790493\n",
      "Iteração 3: xns = -3.150341750749699, f(xns) = 0.08702658756643089\n",
      "Iteração 4: xns = -3.1532892047961885, f(xns) = 0.025714165505274167\n",
      "Iteração 5: xns = -3.1541592084004404, f(xns) = 0.007585091906449293\n",
      "Iteração 6: xns = -3.154415761766906, f(xns) = 0.0022363163068170877\n",
      "Iteração 7: xns = -3.1544913947541646, f(xns) = 0.0006592375160394681\n",
      "Iteração 8: xns = -3.154513689805964, f(xns) = 0.00019432640642236265\n",
      "Iteração 9: xns = -3.154520261767533, f(xns) = 5.728173837837858e-05\n",
      "Iteração 10: xns = -3.154522198985061, f(xns) = 1.688491690288174e-05\n",
      "Raiz encontrada: -3.1545227700175715, após 11 iterações\n"
     ]
    }
   ],
   "source": [
    "raiz = falsa_posicao(-4, -3, 1e-5, 100)"
   ]
  }
 ],
 "metadata": {
  "kernelspec": {
   "display_name": "Python 3",
   "language": "python",
   "name": "python3"
  },
  "language_info": {
   "codemirror_mode": {
    "name": "ipython",
    "version": 3
   },
   "file_extension": ".py",
   "mimetype": "text/x-python",
   "name": "python",
   "nbconvert_exporter": "python",
   "pygments_lexer": "ipython3",
   "version": "3.11.5"
  }
 },
 "nbformat": 4,
 "nbformat_minor": 2
}
