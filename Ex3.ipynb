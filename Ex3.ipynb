{
 "cells": [
  {
   "cell_type": "markdown",
   "metadata": {},
   "source": [
    "# Método de Newton\n",
    "### Aicha Al-Rob\n",
    "\n",
    "exemplo: f(x) = 2x - sen(x) - 4, com erro > 10^-3\n"
   ]
  },
  {
   "cell_type": "code",
   "execution_count": 1,
   "metadata": {},
   "outputs": [],
   "source": [
    "import math\n",
    "import numpy as np\n",
    "def f(x):\n",
    "    return 2*x - math.sin(x) - 4\n"
   ]
  },
  {
   "cell_type": "code",
   "execution_count": 2,
   "metadata": {},
   "outputs": [
    {
     "name": "stdout",
     "output_type": "stream",
     "text": [
      "  x  |  f(x)\n",
      "-5 | -14.958924274663138\n",
      "-4 | -12.756802495307928\n",
      "-3 | -9.858879991940132\n",
      "-2 | -7.090702573174318\n",
      "-1 | -5.158529015192103\n",
      "0 | -4.0\n",
      "1 | -2.8414709848078967\n",
      "2 | -0.9092974268256819\n",
      "3 | 1.8588799919401326\n",
      "4 | 4.756802495307928\n"
     ]
    }
   ],
   "source": [
    "print(\"  x  |  f(x)\")\n",
    "for i in np.arange(-5, 5,1):\n",
    "    print(f\"{i} | {f(i)}\")"
   ]
  },
  {
   "cell_type": "code",
   "execution_count": 3,
   "metadata": {},
   "outputs": [],
   "source": [
    "# primeira estimativa da solucao: x=3\n",
    "def deriv(x):\n",
    "    return 2 - math.cos(x)\n",
    "\n",
    "def deriv2(x):\n",
    "    return math.sin(x)\n",
    "\n",
    "x = 3\n",
    "\n",
    "def newton(x, tol=1e-3, maxiter=100):\n",
    "    for i in range(maxiter):\n",
    "        if deriv(x) == 0:\n",
    "            print(\"derivada zero, metodo falhou\")\n",
    "            return None\n",
    "        new_x = x - f(x)/deriv(x)\n",
    "        if abs(new_x - x) < tol:\n",
    "            print(f\"Raiz encontrada: x = {new_x} após {i+1} iterações.\")\n",
    "            return new_x\n",
    "        x = new_x\n",
    "        print(f\"Iteração {i+1}: x = {x}, f(x) = {f(x)}, f'(x) = {f(x)}, x_new = {new_x}\")\n",
    "        print(f\" tol = { abs(new_x - x)}\")\n",
    "    print(\"numero maximo de iteracoes atingido, metodo falhou\")\n",
    "    return x\n"
   ]
  },
  {
   "cell_type": "code",
   "execution_count": 4,
   "metadata": {},
   "outputs": [
    {
     "name": "stdout",
     "output_type": "stream",
     "text": [
      "Iteração 1: x = 2.3782994458836813, f(x) = 0.06529415118312887, f'(x) = 0.06529415118312887, x_new = 2.3782994458836813\n",
      " tol = 0.0\n",
      "Iteração 2: x = 2.3543168444017715, f(x) = 0.00020045879706209746, f'(x) = 0.00020045879706209746, x_new = 2.3543168444017715\n",
      " tol = 0.0\n",
      "Raiz encontrada: x = 2.354242758941339 após 3 iterações.\n"
     ]
    },
    {
     "data": {
      "text/plain": [
       "2.354242758941339"
      ]
     },
     "execution_count": 4,
     "metadata": {},
     "output_type": "execute_result"
    }
   ],
   "source": [
    "x = 3\n",
    "newton(x)\n"
   ]
  }
 ],
 "metadata": {
  "kernelspec": {
   "display_name": "Python 3",
   "language": "python",
   "name": "python3"
  },
  "language_info": {
   "codemirror_mode": {
    "name": "ipython",
    "version": 3
   },
   "file_extension": ".py",
   "mimetype": "text/x-python",
   "name": "python",
   "nbconvert_exporter": "python",
   "pygments_lexer": "ipython3",
   "version": "3.11.5"
  }
 },
 "nbformat": 4,
 "nbformat_minor": 2
}
