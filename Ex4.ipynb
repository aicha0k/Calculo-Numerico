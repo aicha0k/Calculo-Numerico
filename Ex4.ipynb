{
 "cells": [
  {
   "cell_type": "markdown",
   "metadata": {},
   "source": [
    "# Método da Secante\n",
    "\n",
    "## Aicha Al-Rob\n",
    "\n",
    "\n",
    "\n",
    "1. Escolha duas aproximações iniciais $x_0$ e $x_1$ para a raiz de uma função $f(x)$.\n",
    "2. Para i=1,2,..., até que o erro seja menor que um valor especificado, calcule $x_{i+1}$ usando a fórmula:\n",
    "$$x_{i+1} = x_i - \\frac{f(x_i)(x_i-x_{i-1})}{f(x_i)-f(x_{i-1})}$$\n",
    "3. A raiz da função é aproximadamente $x_{i+1}$.\n",
    "\n",
    "Critério de parada: $|x_{i+1}-x_i|<\\epsilon$.\n",
    "\n",
    "### Exemplo\n",
    "Vamos encontrar a raiz da função $f(x)=x^2+x-6$ com aproximações iniciais $x_0=1,5$ e $x_1=7$.\n"
   ]
  },
  {
   "cell_type": "code",
   "execution_count": 18,
   "metadata": {},
   "outputs": [],
   "source": [
    "def f(x):\n",
    "    return x**3 - x - 1"
   ]
  },
  {
   "cell_type": "code",
   "execution_count": 19,
   "metadata": {},
   "outputs": [],
   "source": [
    "def eps(x_new, x_old):\n",
    "    print(f\"eps: {abs(x_new - x_old)}\")\n",
    "    return abs(x_new - x_old)\n",
    "\n"
   ]
  },
  {
   "cell_type": "code",
   "execution_count": 26,
   "metadata": {},
   "outputs": [],
   "source": [
    "def secante(x0,x1, epsilon, max_iter=100):\n",
    "    for i in range(max_iter):\n",
    "        fx0 = f(x0)\n",
    "        fx1 = f(x1)\n",
    "\n",
    "        if fx1 - fx0 == 0:\n",
    "            print(\"Divisão por zero, metodo falhou\")\n",
    "            return None\n",
    "        x2 = x1 - fx1*(x1 - x0)/(fx1 - fx0) # calculando a nova aproximação x2\n",
    "\n",
    "        erro = eps(x2, x1)\n",
    "        if erro < epsilon:\n",
    "            print(f\"Raiz encontrada: {x2} após {i} iterações\")\n",
    "            print(f\"Erro: {erro}\")\n",
    "            print(f\"Valor da função: {f(x2)}\")\n",
    "            return x2\n",
    "    \n",
    "        x0, x1 = x1, x2\n",
    "        print(f\"Iteração {i+1}: x0 = {x0}, x1 = {x1}, x2 = {x2}\\n\")\n",
    "    print(\"Número máximo de iterações atingido\")\n",
    "    return x2"
   ]
  },
  {
   "cell_type": "code",
   "execution_count": 27,
   "metadata": {},
   "outputs": [
    {
     "name": "stdout",
     "output_type": "stream",
     "text": [
      "eps: 0.8333333333333335\n",
      "Iteração 1: x0 = 2, x1 = 1.1666666666666665, x2 = 1.1666666666666665\n",
      "\n",
      "eps: 0.08644536652835422\n",
      "Iteração 2: x0 = 1.1666666666666665, x1 = 1.2531120331950207, x2 = 1.2531120331950207\n",
      "\n",
      "eps: 0.08409441264663564\n",
      "Iteração 3: x0 = 1.2531120331950207, x1 = 1.3372064458416564, x2 = 1.3372064458416564\n",
      "\n",
      "eps: 0.013356349454015426\n",
      "Iteração 4: x0 = 1.3372064458416564, x1 = 1.323850096387641, x2 = 1.323850096387641\n",
      "\n",
      "eps: 0.0008578401444470085\n",
      "Raiz encontrada: 1.324707936532088 após 4 iterações\n",
      "Erro: 0.0008578401444470085\n",
      "Valor da função: -4.273426281020676e-05\n"
     ]
    },
    {
     "data": {
      "text/plain": [
       "1.324707936532088"
      ]
     },
     "execution_count": 27,
     "metadata": {},
     "output_type": "execute_result"
    }
   ],
   "source": [
    "x0 = 1\n",
    "x1 = 2\n",
    "epsilon = 0.001\n",
    "secante(x0,x1, epsilon)"
   ]
  }
 ],
 "metadata": {
  "kernelspec": {
   "display_name": "Python 3",
   "language": "python",
   "name": "python3"
  },
  "language_info": {
   "codemirror_mode": {
    "name": "ipython",
    "version": 3
   },
   "file_extension": ".py",
   "mimetype": "text/x-python",
   "name": "python",
   "nbconvert_exporter": "python",
   "pygments_lexer": "ipython3",
   "version": "3.11.5"
  }
 },
 "nbformat": 4,
 "nbformat_minor": 2
}
