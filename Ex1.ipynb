{
 "cells": [
  {
   "cell_type": "markdown",
   "metadata": {},
   "source": [
    "# Calculo Numerico\n",
    "## Método da Bisseção\n",
    "### Aicha Khalid Hassan Al-Rob\n",
    "exemplo 1: f(x) x^3 - 10, com erro <= 0,05\n"
   ]
  },
  {
   "cell_type": "code",
   "execution_count": 8,
   "metadata": {},
   "outputs": [],
   "source": [
    "import numpy as np\n",
    "def f(x):\n",
    "   return x**3 - 10"
   ]
  },
  {
   "cell_type": "code",
   "execution_count": 9,
   "metadata": {},
   "outputs": [
    {
     "name": "stdout",
     "output_type": "stream",
     "text": [
      "f(x) = x^3 - 10\n",
      "\n",
      "  x  |  f(x)\n",
      "-5.0 | -135.0\n",
      "-4.5 | -101.125\n",
      "-4.0 | -74.0\n",
      "-3.5 | -52.875\n",
      "-3.0 | -37.0\n",
      "-2.5 | -25.625\n",
      "-2.0 | -18.0\n",
      "-1.5 | -13.375\n",
      "-1.0 | -11.0\n",
      "-0.5 | -10.125\n",
      "0.0 | -10.0\n",
      "0.5 | -9.875\n",
      "1.0 | -9.0\n",
      "1.5 | -6.625\n",
      "2.0 | -2.0\n",
      "2.5 | 5.625\n",
      "3.0 | 17.0\n",
      "3.5 | 32.875\n",
      "4.0 | 54.0\n",
      "4.5 | 81.125\n"
     ]
    }
   ],
   "source": [
    "# Primeiro passo, definir o intervalo [a,b]\n",
    "# pra isso, vamos testar valores de x até encontrar um que satisfaça f(x) < 0 e f(x) > 0\n",
    "# for x in range(-10, 10):\n",
    "#     print(x, f(x))\n",
    "print(\"f(x) = x^3 - 10\\n\")\n",
    "print(\"  x  |  f(x)\")\n",
    "for i in np.arange(-5, 5, 0.5):\n",
    "    print(f\"{i} | {f(i)}\")"
   ]
  },
  {
   "cell_type": "code",
   "execution_count": 10,
   "metadata": {},
   "outputs": [
    {
     "name": "stdout",
     "output_type": "stream",
     "text": [
      "f(2) = -2, f(2.5)= 5.625\n",
      "portanto, o intervalo é [2, 2.5]\n"
     ]
    }
   ],
   "source": [
    "print(f\"f(2) = {f(2)}, f(2.5)= {f(2.5)}\")\n",
    "print(\"portanto, o intervalo é [2, 2.5]\")"
   ]
  },
  {
   "cell_type": "code",
   "execution_count": 11,
   "metadata": {},
   "outputs": [
    {
     "name": "stdout",
     "output_type": "stream",
     "text": [
      "Ponto médio: 2.25\n",
      "A função no ponto médio: 1.390625\n"
     ]
    }
   ],
   "source": [
    "# Calculando o ponto médio\n",
    "pontoM = (2 + 2.5) / 2\n",
    "print(f\"Ponto médio: {pontoM}\")\n",
    "print(f\"A função no ponto médio: {f(pontoM)}\")"
   ]
  },
  {
   "cell_type": "code",
   "execution_count": 12,
   "metadata": {},
   "outputs": [
    {
     "name": "stdout",
     "output_type": "stream",
     "text": [
      "A solucao esta entre ponto médio, 3.25, e 2\n",
      "Tolerância: 0.25\n"
     ]
    }
   ],
   "source": [
    "def verificar(a,b,m):\n",
    "    if f(a)*f(m) >= 0:\n",
    "        print(f\"a solucao exata está entre o ponto médio e {b}\")\n",
    "    else:\n",
    "        print(f\"A solucao esta entre ponto médio, {m}, e {a}\")\n",
    "\n",
    "verificar(2,2.5,3.25)\n",
    "# professor deu o erro como sendo 0.01\n",
    "# mas vamos calcular a tolerância, para comparar com o erro\n",
    "tolerancia = abs(2.5 - 2) / 2\n",
    "print(f\"Tolerância: {tolerancia}\")\n",
    "    \n",
    "\n",
    "    "
   ]
  },
  {
   "cell_type": "code",
   "execution_count": 13,
   "metadata": {},
   "outputs": [
    {
     "name": "stdout",
     "output_type": "stream",
     "text": [
      "Iteração 1: Intervalo [2, 2.25], Raiz aproximada = 2.25\n",
      "Iteração 2: Intervalo [2.125, 2.25], Raiz aproximada = 2.125\n",
      "Iteração 3: Intervalo [2.125, 2.1875], Raiz aproximada = 2.1875\n",
      "Iteração 4: Intervalo [2.125, 2.15625], Raiz aproximada = 2.15625\n",
      "Iteração 5: Intervalo [2.140625, 2.15625], Raiz aproximada = 2.140625\n",
      "Iteração 6: Intervalo [2.1484375, 2.15625], Raiz aproximada = 2.1484375\n",
      "Raiz aproximada: 2.1484375\n",
      "f(2.1484375) = -0.08327722549438477\n",
      "Erro: 0.08327722549438477\n"
     ]
    }
   ],
   "source": [
    "def bissecao(a,b,erro):\n",
    "    iteracoes = 0\n",
    "    while abs(b-a) > erro:\n",
    "        iteracoes += 1\n",
    "        m = (a+b)/2\n",
    "        if f(a)*f(m) < 0:\n",
    "            b = m\n",
    "        else:\n",
    "            a = m\n",
    "        print(f\"Iteração {iteracoes}: Intervalo [{a}, {b}], Raiz aproximada = {m}\")\n",
    "    \n",
    "    return m\n",
    "\n",
    "raiz = bissecao(2,2.5,0.01)\n",
    "print(f\"Raiz aproximada: {raiz}\")\n",
    "print(f\"f({raiz}) = {f(raiz)}\")\n",
    "print(f\"Erro: {abs(f(raiz))}\")\n",
    "\n"
   ]
  }
 ],
 "metadata": {
  "kernelspec": {
   "display_name": "Python 3",
   "language": "python",
   "name": "python3"
  },
  "language_info": {
   "codemirror_mode": {
    "name": "ipython",
    "version": 3
   },
   "file_extension": ".py",
   "mimetype": "text/x-python",
   "name": "python",
   "nbconvert_exporter": "python",
   "pygments_lexer": "ipython3",
   "version": "3.11.5"
  }
 },
 "nbformat": 4,
 "nbformat_minor": 2
}
